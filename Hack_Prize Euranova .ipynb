{
 "cells": [
  {
   "cell_type": "markdown",
   "id": "73b0cd40",
   "metadata": {},
   "source": [
    "# Imports\n"
   ]
  },
  {
   "cell_type": "code",
   "execution_count": 2,
   "id": "3616ddf5",
   "metadata": {},
   "outputs": [],
   "source": [
    "import pandas as pd\n",
    "import numpy as np\n",
    "import matplotlib.pyplot as plt\n",
    "import matplotlib.image as mpimg\n",
    "import seaborn as sns\n",
    "%matplotlib inline\n",
    "\n",
    "np.random.seed(2)\n",
    "\n",
    "from sklearn.model_selection import train_test_split\n",
    "from sklearn.metrics import confusion_matrix\n",
    "import itertools\n",
    "\n",
    "from keras.utils.np_utils import to_categorical # convert to one-hot-encoding\n",
    "from keras.models import Sequential\n",
    "from keras.layers import Dense, Dropout, Flatten, Conv2D, MaxPool2D\n",
    "from tensorflow.keras.optimizers import RMSprop,Adam\n",
    "from keras.preprocessing.image import ImageDataGenerator\n",
    "from keras.callbacks import ReduceLROnPlateau\n",
    "\n",
    "\n",
    "sns.set(style='white', context='notebook', palette='deep')"
   ]
  },
  {
   "cell_type": "markdown",
   "id": "42b83252",
   "metadata": {},
   "source": [
    "# Load data"
   ]
  },
  {
   "cell_type": "code",
   "execution_count": 3,
   "id": "5750ebd5",
   "metadata": {},
   "outputs": [],
   "source": [
    "# Load the data\n",
    "train = pd.read_csv(\"Train.csv\")\n",
    "test = pd.read_csv(\"test.csv\")"
   ]
  },
  {
   "cell_type": "markdown",
   "id": "b26c1a10",
   "metadata": {},
   "source": [
    "# Drop columns and check for missing values"
   ]
  },
  {
   "cell_type": "code",
   "execution_count": 4,
   "id": "76f72088",
   "metadata": {},
   "outputs": [
    {
     "name": "stderr",
     "output_type": "stream",
     "text": [
      "C:\\Users\\AZIZ\\.conda\\envs\\Tensorflow\\lib\\site-packages\\seaborn\\_decorators.py:36: FutureWarning: Pass the following variable as a keyword arg: x. From version 0.12, the only valid positional argument will be `data`, and passing other arguments without an explicit keyword will result in an error or misinterpretation.\n",
      "  warnings.warn(\n"
     ]
    },
    {
     "data": {
      "text/plain": [
       "8    568\n",
       "9    535\n",
       "3    500\n",
       "2    500\n",
       "1    500\n",
       "5    500\n",
       "0    500\n",
       "6    498\n",
       "7    487\n",
       "4    412\n",
       "Name: Target, dtype: int64"
      ]
     },
     "execution_count": 4,
     "metadata": {},
     "output_type": "execute_result"
    },
    {
     "data": {
      "image/png": "[encoded data removed]",
      "text/plain": [
       "<Figure size 432x288 with 1 Axes>"
      ]
     },
     "metadata": {},
     "output_type": "display_data"
    }
   ],
   "source": [
    "Y_train = train[\"Target\"]\n",
    "\n",
    "# Drop 'label' column\n",
    "X_train = train.drop(labels = [\"Target\",'ID'],axis = 1) \n",
    "test.drop('ID',axis=1,inplace=True)\n",
    "\n",
    "# free some space\n",
    "del train \n",
    "\n",
    "g = sns.countplot(Y_train)\n",
    "\n",
    "Y_train.value_counts()"
   ]
  },
  {
   "cell_type": "code",
   "execution_count": 5,
   "id": "ca4d7e3d",
   "metadata": {},
   "outputs": [
    {
     "data": {
      "text/plain": [
       "count      4096\n",
       "unique        1\n",
       "top       False\n",
       "freq       4096\n",
       "dtype: object"
      ]
     },
     "execution_count": 5,
     "metadata": {},
     "output_type": "execute_result"
    }
   ],
   "source": [
    "# Check the data\n",
    "X_train.isnull().any().describe()"
   ]
  },
  {
   "cell_type": "code",
   "execution_count": 6,
   "id": "d870f643",
   "metadata": {},
   "outputs": [],
   "source": [
    "# Normalize the data\n",
    "X_train = X_train / 255.0\n",
    "test = test / 255.0"
   ]
  },
  {
   "cell_type": "markdown",
   "id": "bea1b4e0",
   "metadata": {},
   "source": [
    "### Train and test images (64px x 64px) has been stock into pandas.Dataframe as 1D vectors of 4096 values. We reshape all data to 64x64x1 3D matrices.\n",
    "\n"
   ]
  },
  {
   "cell_type": "code",
   "execution_count": 7,
   "id": "f0ed5e1a",
   "metadata": {},
   "outputs": [],
   "source": [
    "# Reshape image in 3 dimensions (height = 28px, width = 28px , canal = 1)\n",
    "X_train = X_train.values.reshape(-1,64,64,1)\n",
    "test = test.values.reshape(-1,64,64,1)"
   ]
  },
  {
   "cell_type": "code",
   "execution_count": 8,
   "id": "032f1c41",
   "metadata": {},
   "outputs": [],
   "source": [
    "#Label Encode target values\n",
    "Y_train = to_categorical(Y_train, num_classes = 10)"
   ]
  },
  {
   "cell_type": "code",
   "execution_count": 9,
   "id": "a9da1eb2",
   "metadata": {},
   "outputs": [],
   "source": [
    "# Set the random seed\n",
    "random_seed = 2\n",
    "# Split the train and the validation set for the fitting\n",
    "X_train, X_val, Y_train, Y_val = train_test_split(X_train, Y_train, test_size = 0.2, random_state=random_seed)"
   ]
  },
  {
   "cell_type": "markdown",
   "id": "6baefcae",
   "metadata": {},
   "source": [
    "### Custom CNN architechture was takken from 1%top MNIST image classification in Kaggle ( almost same problem in number of classes and training data)."
   ]
  },
  {
   "cell_type": "code",
   "execution_count": 10,
   "id": "f6ce21a6",
   "metadata": {},
   "outputs": [],
   "source": [
    "# Set the CNN model \n",
    "# my CNN architechture is In -> [[Conv2D->relu]*2 -> MaxPool2D -> Dropout]*2 -> Flatten -> Dense -> Dropout -> Out\n",
    "\n",
    "model = Sequential()\n",
    "\n",
    "model.add(Conv2D(filters = 32, kernel_size = (5,5),padding = 'Same', \n",
    "                 activation ='relu', input_shape = (64,64,1)))\n",
    "model.add(Conv2D(filters = 32, kernel_size = (5,5),padding = 'Same', \n",
    "                 activation ='relu'))\n",
    "model.add(MaxPool2D(pool_size=(2,2)))\n",
    "model.add(Dropout(0.25))\n",
    "\n",
    "\n",
    "model.add(Conv2D(filters = 64, kernel_size = (3,3),padding = 'Same', \n",
    "                 activation ='relu'))\n",
    "model.add(Conv2D(filters = 64, kernel_size = (3,3),padding = 'Same', \n",
    "                 activation ='relu'))\n",
    "model.add(MaxPool2D(pool_size=(2,2), strides=(2,2)))\n",
    "model.add(Dropout(0.25))\n",
    "\n",
    "\n",
    "model.add(Flatten())\n",
    "model.add(Dense(256, activation = \"relu\"))\n",
    "model.add(Dropout(0.5))\n",
    "model.add(Dense(10, activation = \"softmax\"))\n"
   ]
  },
  {
   "cell_type": "markdown",
   "id": "d6c51fdb",
   "metadata": {},
   "source": [
    "### Tried multiple optimizers (Adam,Adadelta,Adagrad..), RMSprop gives best results"
   ]
  },
  {
   "cell_type": "code",
   "execution_count": 11,
   "id": "3d2dd285",
   "metadata": {},
   "outputs": [
    {
     "name": "stderr",
     "output_type": "stream",
     "text": [
      "C:\\Users\\AZIZ\\.conda\\envs\\Tensorflow\\lib\\site-packages\\keras\\optimizer_v2\\rmsprop.py:130: UserWarning: The `lr` argument is deprecated, use `learning_rate` instead.\n",
      "  super(RMSprop, self).__init__(name, **kwargs)\n"
     ]
    }
   ],
   "source": [
    "# Define the optimizer\n",
    "optimizer = RMSprop(lr=0.001, rho=0.9, epsilon=1e-08, decay=0.0)"
   ]
  },
  {
   "cell_type": "code",
   "execution_count": 12,
   "id": "7181e3c5",
   "metadata": {},
   "outputs": [],
   "source": [
    "# Compile the model\n",
    "model.compile(optimizer = optimizer , loss = \"categorical_crossentropy\", metrics=[\"accuracy\"])\n"
   ]
  },
  {
   "cell_type": "markdown",
   "id": "280b8224",
   "metadata": {},
   "source": [
    "### In order to make the optimizer converge faster and closest to the global minimum of the loss function, i used an annealing method of the learning rate (LR).\n",
    "\n"
   ]
  },
  {
   "cell_type": "code",
   "execution_count": 13,
   "id": "59fb78ec",
   "metadata": {},
   "outputs": [],
   "source": [
    "# Set a learning rate annealer\n",
    "learning_rate_reduction = ReduceLROnPlateau(monitor='val_acc', \n",
    "                                            patience=3, \n",
    "                                            verbose=1, \n",
    "                                            factor=0.5, \n",
    "                                            min_lr=0.00001)"
   ]
  },
  {
   "cell_type": "code",
   "execution_count": 14,
   "id": "916f938a",
   "metadata": {},
   "outputs": [],
   "source": [
    "epochs = 30 # Turn epochs to 30 to get 0.9967 accuracy\n",
    "batch_size = 86"
   ]
  },
  {
   "cell_type": "markdown",
   "id": "fe00f758",
   "metadata": {},
   "source": [
    "### For the data augmentation, i choosed to :\n",
    "\n",
    "#### Randomly rotate some training images by 10 degrees\n",
    "#### Randomly Zoom by 10% some training images\n",
    "#### Randomly shift images horizontally by 10% of the width\n",
    "#### Randomly shift images vertically by 10% of the height"
   ]
  },
  {
   "cell_type": "code",
   "execution_count": 15,
   "id": "aad4dd15",
   "metadata": {},
   "outputs": [],
   "source": [
    "datagen = ImageDataGenerator(\n",
    "        featurewise_center=False,  # set input mean to 0 over the dataset\n",
    "        samplewise_center=False,  # set each sample mean to 0\n",
    "        featurewise_std_normalization=False,  # divide inputs by std of the dataset\n",
    "        samplewise_std_normalization=False,  # divide each input by its std\n",
    "        zca_whitening=False,  # apply ZCA whitening\n",
    "        rotation_range=10,  # randomly rotate images in the range (degrees, 0 to 180)\n",
    "        zoom_range = 0.1, # Randomly zoom image \n",
    "        width_shift_range=0.1,  # randomly shift images horizontally (fraction of total width)\n",
    "        height_shift_range=0.1,  # randomly shift images vertically (fraction of total height)\n",
    "        horizontal_flip=False,  # randomly flip images\n",
    "        vertical_flip=False)  # randomly flip images\n",
    "\n",
    "\n",
    "datagen.fit(X_train)"
   ]
  },
  {
   "cell_type": "code",
   "execution_count": 16,
   "id": "fc17885c",
   "metadata": {},
   "outputs": [
    {
     "name": "stdout",
     "output_type": "stream",
     "text": [
      "Epoch 1/30\n"
     ]
    },
    {
     "name": "stderr",
     "output_type": "stream",
     "text": [
      "C:\\Users\\AZIZ\\AppData\\Local\\Temp\\ipykernel_14216\\923181679.py:2: UserWarning: `Model.fit_generator` is deprecated and will be removed in a future version. Please use `Model.fit`, which supports generators.\n",
      "  history = model.fit_generator(datagen.flow(X_train,Y_train, batch_size=batch_size),\n"
     ]
    },
    {
     "name": "stdout",
     "output_type": "stream",
     "text": [
      "WARNING:tensorflow:Learning rate reduction is conditioned on metric `val_acc` which is not available. Available metrics are: loss,accuracy,val_loss,val_accuracy,lr\n",
      "46/46 - 38s - loss: 2.3473 - accuracy: 0.1398 - val_loss: 2.2607 - val_accuracy: 0.1520 - lr: 0.0010 - 38s/epoch - 835ms/step\n",
      "Epoch 2/30\n",
      "WARNING:tensorflow:Learning rate reduction is conditioned on metric `val_acc` which is not available. Available metrics are: loss,accuracy,val_loss,val_accuracy,lr\n",
      "46/46 - 35s - loss: 2.0382 - accuracy: 0.2624 - val_loss: 1.4764 - val_accuracy: 0.4530 - lr: 0.0010 - 35s/epoch - 767ms/step\n",
      "Epoch 3/30\n",
      "WARNING:tensorflow:Learning rate reduction is conditioned on metric `val_acc` which is not available. Available metrics are: loss,accuracy,val_loss,val_accuracy,lr\n",
      "46/46 - 34s - loss: 1.5088 - accuracy: 0.4249 - val_loss: 1.1022 - val_accuracy: 0.5540 - lr: 0.0010 - 34s/epoch - 746ms/step\n",
      "Epoch 4/30\n",
      "WARNING:tensorflow:Learning rate reduction is conditioned on metric `val_acc` which is not available. Available metrics are: loss,accuracy,val_loss,val_accuracy,lr\n",
      "46/46 - 35s - loss: 1.2398 - accuracy: 0.4957 - val_loss: 0.9946 - val_accuracy: 0.5830 - lr: 0.0010 - 35s/epoch - 752ms/step\n",
      "Epoch 5/30\n",
      "WARNING:tensorflow:Learning rate reduction is conditioned on metric `val_acc` which is not available. Available metrics are: loss,accuracy,val_loss,val_accuracy,lr\n",
      "46/46 - 35s - loss: 1.1034 - accuracy: 0.5470 - val_loss: 0.8687 - val_accuracy: 0.6570 - lr: 0.0010 - 35s/epoch - 759ms/step\n",
      "Epoch 6/30\n",
      "WARNING:tensorflow:Learning rate reduction is conditioned on metric `val_acc` which is not available. Available metrics are: loss,accuracy,val_loss,val_accuracy,lr\n",
      "46/46 - 35s - loss: 0.9760 - accuracy: 0.6124 - val_loss: 0.6780 - val_accuracy: 0.7530 - lr: 0.0010 - 35s/epoch - 756ms/step\n",
      "Epoch 7/30\n",
      "WARNING:tensorflow:Learning rate reduction is conditioned on metric `val_acc` which is not available. Available metrics are: loss,accuracy,val_loss,val_accuracy,lr\n",
      "46/46 - 35s - loss: 0.9045 - accuracy: 0.6438 - val_loss: 0.6698 - val_accuracy: 0.7600 - lr: 0.0010 - 35s/epoch - 770ms/step\n",
      "Epoch 8/30\n",
      "WARNING:tensorflow:Learning rate reduction is conditioned on metric `val_acc` which is not available. Available metrics are: loss,accuracy,val_loss,val_accuracy,lr\n",
      "46/46 - 36s - loss: 0.8064 - accuracy: 0.6785 - val_loss: 0.5772 - val_accuracy: 0.7870 - lr: 0.0010 - 36s/epoch - 772ms/step\n",
      "Epoch 9/30\n",
      "WARNING:tensorflow:Learning rate reduction is conditioned on metric `val_acc` which is not available. Available metrics are: loss,accuracy,val_loss,val_accuracy,lr\n",
      "46/46 - 35s - loss: 0.7596 - accuracy: 0.7064 - val_loss: 0.5549 - val_accuracy: 0.7900 - lr: 0.0010 - 35s/epoch - 765ms/step\n",
      "Epoch 10/30\n",
      "WARNING:tensorflow:Learning rate reduction is conditioned on metric `val_acc` which is not available. Available metrics are: loss,accuracy,val_loss,val_accuracy,lr\n",
      "46/46 - 35s - loss: 0.7291 - accuracy: 0.7172 - val_loss: 0.6349 - val_accuracy: 0.7620 - lr: 0.0010 - 35s/epoch - 767ms/step\n",
      "Epoch 11/30\n",
      "WARNING:tensorflow:Learning rate reduction is conditioned on metric `val_acc` which is not available. Available metrics are: loss,accuracy,val_loss,val_accuracy,lr\n",
      "46/46 - 35s - loss: 0.6962 - accuracy: 0.7253 - val_loss: 0.5071 - val_accuracy: 0.8050 - lr: 0.0010 - 35s/epoch - 765ms/step\n",
      "Epoch 12/30\n",
      "WARNING:tensorflow:Learning rate reduction is conditioned on metric `val_acc` which is not available. Available metrics are: loss,accuracy,val_loss,val_accuracy,lr\n",
      "46/46 - 35s - loss: 0.6734 - accuracy: 0.7330 - val_loss: 0.4884 - val_accuracy: 0.8200 - lr: 0.0010 - 35s/epoch - 765ms/step\n",
      "Epoch 13/30\n",
      "WARNING:tensorflow:Learning rate reduction is conditioned on metric `val_acc` which is not available. Available metrics are: loss,accuracy,val_loss,val_accuracy,lr\n",
      "46/46 - 35s - loss: 0.6513 - accuracy: 0.7407 - val_loss: 0.5063 - val_accuracy: 0.8130 - lr: 0.0010 - 35s/epoch - 770ms/step\n",
      "Epoch 14/30\n",
      "WARNING:tensorflow:Learning rate reduction is conditioned on metric `val_acc` which is not available. Available metrics are: loss,accuracy,val_loss,val_accuracy,lr\n",
      "46/46 - 37s - loss: 0.6393 - accuracy: 0.7445 - val_loss: 0.4808 - val_accuracy: 0.8160 - lr: 0.0010 - 37s/epoch - 803ms/step\n",
      "Epoch 15/30\n",
      "WARNING:tensorflow:Learning rate reduction is conditioned on metric `val_acc` which is not available. Available metrics are: loss,accuracy,val_loss,val_accuracy,lr\n",
      "46/46 - 35s - loss: 0.6356 - accuracy: 0.7511 - val_loss: 0.4710 - val_accuracy: 0.8200 - lr: 0.0010 - 35s/epoch - 768ms/step\n",
      "Epoch 16/30\n",
      "WARNING:tensorflow:Learning rate reduction is conditioned on metric `val_acc` which is not available. Available metrics are: loss,accuracy,val_loss,val_accuracy,lr\n",
      "46/46 - 36s - loss: 0.6062 - accuracy: 0.7601 - val_loss: 0.4789 - val_accuracy: 0.8250 - lr: 0.0010 - 36s/epoch - 774ms/step\n",
      "Epoch 17/30\n",
      "WARNING:tensorflow:Learning rate reduction is conditioned on metric `val_acc` which is not available. Available metrics are: loss,accuracy,val_loss,val_accuracy,lr\n",
      "46/46 - 36s - loss: 0.5998 - accuracy: 0.7552 - val_loss: 0.4854 - val_accuracy: 0.8200 - lr: 0.0010 - 36s/epoch - 774ms/step\n",
      "Epoch 18/30\n",
      "WARNING:tensorflow:Learning rate reduction is conditioned on metric `val_acc` which is not available. Available metrics are: loss,accuracy,val_loss,val_accuracy,lr\n",
      "46/46 - 36s - loss: 0.5886 - accuracy: 0.7606 - val_loss: 0.4873 - val_accuracy: 0.8120 - lr: 0.0010 - 36s/epoch - 775ms/step\n",
      "Epoch 19/30\n",
      "WARNING:tensorflow:Learning rate reduction is conditioned on metric `val_acc` which is not available. Available metrics are: loss,accuracy,val_loss,val_accuracy,lr\n",
      "46/46 - 36s - loss: 0.5768 - accuracy: 0.7706 - val_loss: 0.4592 - val_accuracy: 0.8340 - lr: 0.0010 - 36s/epoch - 779ms/step\n",
      "Epoch 20/30\n",
      "WARNING:tensorflow:Learning rate reduction is conditioned on metric `val_acc` which is not available. Available metrics are: loss,accuracy,val_loss,val_accuracy,lr\n",
      "46/46 - 36s - loss: 0.5679 - accuracy: 0.7808 - val_loss: 0.4768 - val_accuracy: 0.8200 - lr: 0.0010 - 36s/epoch - 780ms/step\n",
      "Epoch 21/30\n",
      "WARNING:tensorflow:Learning rate reduction is conditioned on metric `val_acc` which is not available. Available metrics are: loss,accuracy,val_loss,val_accuracy,lr\n",
      "46/46 - 36s - loss: 0.5584 - accuracy: 0.7752 - val_loss: 0.4606 - val_accuracy: 0.8300 - lr: 0.0010 - 36s/epoch - 790ms/step\n",
      "Epoch 22/30\n",
      "WARNING:tensorflow:Learning rate reduction is conditioned on metric `val_acc` which is not available. Available metrics are: loss,accuracy,val_loss,val_accuracy,lr\n",
      "46/46 - 36s - loss: 0.5502 - accuracy: 0.7782 - val_loss: 0.5006 - val_accuracy: 0.8200 - lr: 0.0010 - 36s/epoch - 786ms/step\n",
      "Epoch 23/30\n",
      "WARNING:tensorflow:Learning rate reduction is conditioned on metric `val_acc` which is not available. Available metrics are: loss,accuracy,val_loss,val_accuracy,lr\n",
      "46/46 - 36s - loss: 0.5552 - accuracy: 0.7821 - val_loss: 0.4549 - val_accuracy: 0.8370 - lr: 0.0010 - 36s/epoch - 789ms/step\n",
      "Epoch 24/30\n",
      "WARNING:tensorflow:Learning rate reduction is conditioned on metric `val_acc` which is not available. Available metrics are: loss,accuracy,val_loss,val_accuracy,lr\n",
      "46/46 - 36s - loss: 0.5407 - accuracy: 0.7923 - val_loss: 0.4499 - val_accuracy: 0.8450 - lr: 0.0010 - 36s/epoch - 791ms/step\n",
      "Epoch 25/30\n",
      "WARNING:tensorflow:Learning rate reduction is conditioned on metric `val_acc` which is not available. Available metrics are: loss,accuracy,val_loss,val_accuracy,lr\n",
      "46/46 - 36s - loss: 0.5412 - accuracy: 0.7895 - val_loss: 0.4448 - val_accuracy: 0.8390 - lr: 0.0010 - 36s/epoch - 786ms/step\n",
      "Epoch 26/30\n",
      "WARNING:tensorflow:Learning rate reduction is conditioned on metric `val_acc` which is not available. Available metrics are: loss,accuracy,val_loss,val_accuracy,lr\n",
      "46/46 - 36s - loss: 0.5294 - accuracy: 0.8030 - val_loss: 0.4480 - val_accuracy: 0.8450 - lr: 0.0010 - 36s/epoch - 788ms/step\n",
      "Epoch 27/30\n",
      "WARNING:tensorflow:Learning rate reduction is conditioned on metric `val_acc` which is not available. Available metrics are: loss,accuracy,val_loss,val_accuracy,lr\n",
      "46/46 - 36s - loss: 0.5410 - accuracy: 0.7910 - val_loss: 0.4468 - val_accuracy: 0.8460 - lr: 0.0010 - 36s/epoch - 791ms/step\n",
      "Epoch 28/30\n",
      "WARNING:tensorflow:Learning rate reduction is conditioned on metric `val_acc` which is not available. Available metrics are: loss,accuracy,val_loss,val_accuracy,lr\n"
     ]
    },
    {
     "name": "stdout",
     "output_type": "stream",
     "text": [
      "46/46 - 36s - loss: 0.5327 - accuracy: 0.7954 - val_loss: 0.4248 - val_accuracy: 0.8480 - lr: 0.0010 - 36s/epoch - 788ms/step\n",
      "Epoch 29/30\n",
      "WARNING:tensorflow:Learning rate reduction is conditioned on metric `val_acc` which is not available. Available metrics are: loss,accuracy,val_loss,val_accuracy,lr\n",
      "46/46 - 36s - loss: 0.5219 - accuracy: 0.8076 - val_loss: 0.4304 - val_accuracy: 0.8440 - lr: 0.0010 - 36s/epoch - 792ms/step\n",
      "Epoch 30/30\n",
      "WARNING:tensorflow:Learning rate reduction is conditioned on metric `val_acc` which is not available. Available metrics are: loss,accuracy,val_loss,val_accuracy,lr\n",
      "46/46 - 37s - loss: 0.5277 - accuracy: 0.7989 - val_loss: 0.4364 - val_accuracy: 0.8480 - lr: 0.0010 - 37s/epoch - 810ms/step\n"
     ]
    }
   ],
   "source": [
    "# Fit the model\n",
    "history = model.fit_generator(datagen.flow(X_train,Y_train, batch_size=batch_size),\n",
    "                              epochs = epochs, validation_data = (X_val,Y_val),\n",
    "                              verbose = 2, steps_per_epoch=X_train.shape[0] // batch_size\n",
    "                              , callbacks=[learning_rate_reduction])"
   ]
  },
  {
   "cell_type": "markdown",
   "id": "8479132e",
   "metadata": {},
   "source": [
    "### Predict resualt for test set and submit as csv"
   ]
  },
  {
   "cell_type": "code",
   "execution_count": 17,
   "id": "8ab310fe",
   "metadata": {},
   "outputs": [],
   "source": [
    "results = model.predict(test)\n",
    "results = np.argmax(results,axis = 1)\n",
    "\n",
    "results = pd.Series(results,name=\"Target\")"
   ]
  },
  {
   "cell_type": "code",
   "execution_count": 18,
   "id": "6758a70f",
   "metadata": {},
   "outputs": [],
   "source": [
    "submission = pd.concat([pd.Series(range(5000),name = \"ID\"),results],axis = 1)\n",
    "\n",
    "submission.to_csv(\"MySub.csv\",index=False)"
   ]
  }
 ],
 "metadata": {
  "kernelspec": {
   "display_name": "Python 3 (ipykernel)",
   "language": "python",
   "name": "python3"
  },
  "language_info": {
   "codemirror_mode": {
    "name": "ipython",
    "version": 3
   },
   "file_extension": ".py",
   "mimetype": "text/x-python",
   "name": "python",
   "nbconvert_exporter": "python",
   "pygments_lexer": "ipython3",
   "version": "3.10.4"
  }
 },
 "nbformat": 4,
 "nbformat_minor": 5
}
